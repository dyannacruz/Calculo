{
  "nbformat": 4,
  "nbformat_minor": 0,
  "metadata": {
    "colab": {
      "provenance": []
    },
    "kernelspec": {
      "name": "python3",
      "display_name": "Python 3"
    },
    "language_info": {
      "name": "python"
    }
  },
  "cells": [
    {
      "cell_type": "code",
      "execution_count": 11,
      "metadata": {
        "id": "wMsaRhbpTGHO",
        "colab": {
          "base_uri": "https://localhost:8080/",
          "height": 331
        },
        "outputId": "72e451db-9bc5-4cf4-a2cc-6b4af25e8721"
      },
      "outputs": [
        {
          "output_type": "stream",
          "name": "stdout",
          "text": [
            "R² é: 0.02\n",
            "\n",
            "y(14) = 0.9999991684719722\n"
          ]
        },
        {
          "output_type": "display_data",
          "data": {
            "text/plain": [
              "<Figure size 432x288 with 1 Axes>"
            ],
            "image/png": "[encoded data removed]"
          },
          "metadata": {
            "needs_background": "light"
          }
        }
      ],
      "source": [
        "# Bibliotecas\n",
        "import numpy as np\n",
        "import pandas as pd\n",
        "import matplotlib.pyplot as plt\n",
        "from sklearn.model_selection import train_test_split\n",
        "from sklearn.metrics import accuracy_score\n",
        "import math\n",
        "\n",
        "# Função\n",
        "def sigmoid(x):\n",
        "  return 1 / (1 + math.exp(-x))\n",
        "\n",
        "# Conjunto de Treinamento\n",
        "X = [0, 1, 2, 3, 4, 5, 6, 7, 8, 9, 10, -1, -2, -3, -4]\n",
        "Y = [1, 1, 1, 1, 1, 1, 1, 1, 1, 1, 1, 0, 0, 0, 0]\n",
        "data = pd.DataFrame((zip(X, Y)), columns = [\"X\", \"Y\"])\n",
        "X = np.array([0, 1, 2, 3, 4, 5, 6, 7, 8, 9, 10, -1, -2, -3, -4])\n",
        "Y = np.array([1, 1, 1, 1, 1, 1, 1, 1, 1, 1, 1, 0, 0, 0, 0])\n",
        "\n",
        "# Função\n",
        "def normalizeData(data):\n",
        "\n",
        "    for feature in data.columns:\n",
        "        maxValue = data[feature].max()\n",
        "        minValue = data[feature].min()\n",
        "\n",
        "        data[feature] = (data[feature] - minValue) / (maxValue - minValue)\n",
        "\n",
        "    return data\n",
        "\n",
        "data = normalizeData(data)\n",
        "x_media = np.mean(X) \n",
        "y_media = np.mean(Y) \n",
        "\n",
        "a = np.sum(X * (Y - y_media)) / np.sum(X * (X - x_media)) \n",
        "b = y_media - (a * x_media) \n",
        "funcao = sigmoid(14)\n",
        "R_quadrado = np.sum((funcao-y_media) ** 2) / np.sum((Y - y_media) ** 2) \n",
        "\n",
        "print(f\"R² é: {np.round(R_quadrado, 2)}\\n\")\n",
        "print(\"y(14) =\", funcao)\n",
        "\n",
        "plt.figure()\n",
        "plt.scatter(X, Y, label = \"Dados de Treino\")\n",
        "plt.xlabel(\"X de Treino\")\n",
        "plt.ylabel(\"Y de Treino\")\n",
        "plt.legend()\n",
        "plt.show()"
      ]
    },
    {
      "cell_type": "code",
      "source": [],
      "metadata": {
        "id": "lsJRboUuVZKz"
      },
      "execution_count": null,
      "outputs": []
    }
  ]
}