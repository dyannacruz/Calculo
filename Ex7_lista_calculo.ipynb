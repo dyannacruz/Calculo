{
  "nbformat": 4,
  "nbformat_minor": 0,
  "metadata": {
    "colab": {
      "provenance": []
    },
    "kernelspec": {
      "name": "python3",
      "display_name": "Python 3"
    },
    "language_info": {
      "name": "python"
    }
  },
  "cells": [
    {
      "cell_type": "code",
      "execution_count": 2,
      "metadata": {
        "colab": {
          "base_uri": "https://localhost:8080/"
        },
        "id": "Tr-Dhn1BFSVP",
        "outputId": "ac512a52-b487-4dd2-f3d5-84ad911a88c3"
      },
      "outputs": [
        {
          "output_type": "stream",
          "name": "stdout",
          "text": [
            "Looking in indexes: https://pypi.org/simple, https://us-python.pkg.dev/colab-wheels/public/simple/\n",
            "Requirement already satisfied: yfinance in /usr/local/lib/python3.8/dist-packages (0.1.87)\n",
            "Requirement already satisfied: appdirs>=1.4.4 in /usr/local/lib/python3.8/dist-packages (from yfinance) (1.4.4)\n",
            "Requirement already satisfied: numpy>=1.15 in /usr/local/lib/python3.8/dist-packages (from yfinance) (1.21.6)\n",
            "Requirement already satisfied: pandas>=0.24.0 in /usr/local/lib/python3.8/dist-packages (from yfinance) (1.3.5)\n",
            "Requirement already satisfied: requests>=2.26 in /usr/local/lib/python3.8/dist-packages (from yfinance) (2.28.1)\n",
            "Requirement already satisfied: lxml>=4.5.1 in /usr/local/lib/python3.8/dist-packages (from yfinance) (4.9.1)\n",
            "Requirement already satisfied: multitasking>=0.0.7 in /usr/local/lib/python3.8/dist-packages (from yfinance) (0.0.11)\n",
            "Requirement already satisfied: pytz>=2017.3 in /usr/local/lib/python3.8/dist-packages (from pandas>=0.24.0->yfinance) (2022.6)\n",
            "Requirement already satisfied: python-dateutil>=2.7.3 in /usr/local/lib/python3.8/dist-packages (from pandas>=0.24.0->yfinance) (2.8.2)\n",
            "Requirement already satisfied: six>=1.5 in /usr/local/lib/python3.8/dist-packages (from python-dateutil>=2.7.3->pandas>=0.24.0->yfinance) (1.15.0)\n",
            "Requirement already satisfied: urllib3<1.27,>=1.21.1 in /usr/local/lib/python3.8/dist-packages (from requests>=2.26->yfinance) (1.24.3)\n",
            "Requirement already satisfied: certifi>=2017.4.17 in /usr/local/lib/python3.8/dist-packages (from requests>=2.26->yfinance) (2022.9.24)\n",
            "Requirement already satisfied: charset-normalizer<3,>=2 in /usr/local/lib/python3.8/dist-packages (from requests>=2.26->yfinance) (2.1.1)\n",
            "Requirement already satisfied: idna<4,>=2.5 in /usr/local/lib/python3.8/dist-packages (from requests>=2.26->yfinance) (2.10)\n",
            "Looking in indexes: https://pypi.org/simple, https://us-python.pkg.dev/colab-wheels/public/simple/\n",
            "Requirement already satisfied: riskfolio-lib in /usr/local/lib/python3.8/dist-packages (3.3.0)\n",
            "Requirement already satisfied: numpy>=1.17.0 in /usr/local/lib/python3.8/dist-packages (from riskfolio-lib) (1.21.6)\n",
            "Requirement already satisfied: astropy>=4.3.1 in /usr/local/lib/python3.8/dist-packages (from riskfolio-lib) (4.3.1)\n",
            "Requirement already satisfied: cvxpy>=1.0.25 in /usr/local/lib/python3.8/dist-packages (from riskfolio-lib) (1.2.2)\n",
            "Requirement already satisfied: xlsxwriter>=1.3.7 in /usr/local/lib/python3.8/dist-packages (from riskfolio-lib) (3.0.3)\n",
            "Requirement already satisfied: arch>=4.15 in /usr/local/lib/python3.8/dist-packages (from riskfolio-lib) (5.3.1)\n",
            "Requirement already satisfied: statsmodels>=0.10.1 in /usr/local/lib/python3.8/dist-packages (from riskfolio-lib) (0.12.2)\n",
            "Requirement already satisfied: networkx>=2.5.1 in /usr/local/lib/python3.8/dist-packages (from riskfolio-lib) (2.6.3)\n",
            "Requirement already satisfied: matplotlib>=3.3.0 in /usr/local/lib/python3.8/dist-packages (from riskfolio-lib) (3.6.2)\n",
            "Requirement already satisfied: scikit-learn>=0.22.0 in /usr/local/lib/python3.8/dist-packages (from riskfolio-lib) (1.0.2)\n",
            "Requirement already satisfied: scipy>=1.0.1 in /usr/local/lib/python3.8/dist-packages (from riskfolio-lib) (1.7.3)\n",
            "Requirement already satisfied: pandas>=1.0.0 in /usr/local/lib/python3.8/dist-packages (from riskfolio-lib) (1.3.5)\n",
            "Requirement already satisfied: property-cached>=1.6.4 in /usr/local/lib/python3.8/dist-packages (from arch>=4.15->riskfolio-lib) (1.6.4)\n",
            "Requirement already satisfied: pyerfa>=1.7.3 in /usr/local/lib/python3.8/dist-packages (from astropy>=4.3.1->riskfolio-lib) (2.0.0.1)\n",
            "Requirement already satisfied: ecos>=2 in /usr/local/lib/python3.8/dist-packages (from cvxpy>=1.0.25->riskfolio-lib) (2.0.10)\n",
            "Requirement already satisfied: scs>=1.1.6 in /usr/local/lib/python3.8/dist-packages (from cvxpy>=1.0.25->riskfolio-lib) (3.2.2)\n",
            "Requirement already satisfied: osqp>=0.4.1 in /usr/local/lib/python3.8/dist-packages (from cvxpy>=1.0.25->riskfolio-lib) (0.6.2.post0)\n",
            "Requirement already satisfied: contourpy>=1.0.1 in /usr/local/lib/python3.8/dist-packages (from matplotlib>=3.3.0->riskfolio-lib) (1.0.6)\n",
            "Requirement already satisfied: pillow>=6.2.0 in /usr/local/lib/python3.8/dist-packages (from matplotlib>=3.3.0->riskfolio-lib) (7.1.2)\n",
            "Requirement already satisfied: packaging>=20.0 in /usr/local/lib/python3.8/dist-packages (from matplotlib>=3.3.0->riskfolio-lib) (21.3)\n",
            "Requirement already satisfied: fonttools>=4.22.0 in /usr/local/lib/python3.8/dist-packages (from matplotlib>=3.3.0->riskfolio-lib) (4.38.0)\n",
            "Requirement already satisfied: python-dateutil>=2.7 in /usr/local/lib/python3.8/dist-packages (from matplotlib>=3.3.0->riskfolio-lib) (2.8.2)\n",
            "Requirement already satisfied: kiwisolver>=1.0.1 in /usr/local/lib/python3.8/dist-packages (from matplotlib>=3.3.0->riskfolio-lib) (1.4.4)\n",
            "Requirement already satisfied: pyparsing>=2.2.1 in /usr/local/lib/python3.8/dist-packages (from matplotlib>=3.3.0->riskfolio-lib) (3.0.9)\n",
            "Requirement already satisfied: cycler>=0.10 in /usr/local/lib/python3.8/dist-packages (from matplotlib>=3.3.0->riskfolio-lib) (0.11.0)\n",
            "Requirement already satisfied: qdldl in /usr/local/lib/python3.8/dist-packages (from osqp>=0.4.1->cvxpy>=1.0.25->riskfolio-lib) (0.1.5.post2)\n",
            "Requirement already satisfied: pytz>=2017.3 in /usr/local/lib/python3.8/dist-packages (from pandas>=1.0.0->riskfolio-lib) (2022.6)\n",
            "Requirement already satisfied: six>=1.5 in /usr/local/lib/python3.8/dist-packages (from python-dateutil>=2.7->matplotlib>=3.3.0->riskfolio-lib) (1.15.0)\n",
            "Requirement already satisfied: joblib>=0.11 in /usr/local/lib/python3.8/dist-packages (from scikit-learn>=0.22.0->riskfolio-lib) (1.2.0)\n",
            "Requirement already satisfied: threadpoolctl>=2.0.0 in /usr/local/lib/python3.8/dist-packages (from scikit-learn>=0.22.0->riskfolio-lib) (3.1.0)\n",
            "Requirement already satisfied: patsy>=0.5 in /usr/local/lib/python3.8/dist-packages (from statsmodels>=0.10.1->riskfolio-lib) (0.5.3)\n",
            "[*********************100%***********************]  4 of 4 completed\n",
            "             weights\n",
            "BBAS3.SA   24.463445\n",
            "BBDC4.SA    0.203174\n",
            "BCSA34.SA  22.240873\n",
            "ITUB4.SA   53.092509\n"
          ]
        }
      ],
      "source": [
        "!pip install yfinance\n",
        "!pip install riskfolio-lib\n",
        "\n",
        "# Bibliotecas\n",
        "import numpy as np\n",
        "import pandas as pd\n",
        "import riskfolio as rp\n",
        "from pandas_datareader import data as pdr\n",
        "import yfinance as yf\n",
        "from matplotlib import pyplot as plt\n",
        "yf.pdr_override()\n",
        "\n",
        "# Busca os preços das ações\n",
        "assets = ['ITUB4.SA', 'BBAS3.SA', 'BBDC4.SA', 'BCSA34.SA']\n",
        "\n",
        "# Data início\n",
        "start = '2021-11-23'\n",
        "end = '2022-11-25'\n",
        "\n",
        "# Preços ajustados\n",
        "prices = pdr.get_data_yahoo(assets, start = start, end = end)['Adj Close']\n",
        "\n",
        "# Calcula os retornos\n",
        "returns = prices.pct_change().dropna()\n",
        "\n",
        "# Cria o objeto de portfolio\n",
        "port = rp.Portfolio(returns = returns)\n",
        "method_mu = 'hist'  \n",
        "method_cov = 'hist' \n",
        "\n",
        "# Inputs do método de otimização\n",
        "port.assets_stats(method_mu = method_mu, method_cov = method_cov, d = 0.94)\n",
        "\n",
        "# Estima portfolio ótimo\n",
        "model='Classic'\n",
        "rm = 'MV'\n",
        "obj = 'MinRisk' \n",
        "w = port.optimization(model = model, rm = rm, obj = obj)\n",
        "print(w * 100)"
      ]
    }
  ]
}